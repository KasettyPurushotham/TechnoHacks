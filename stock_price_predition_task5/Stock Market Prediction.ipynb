{
 "cells": [
  {
   "cell_type": "markdown",
   "id": "8430d003",
   "metadata": {},
   "source": [
    "## Name of project- stock market prediction \n",
    "\n",
    "#### description-\n",
    "\n",
    "for most stock investors, the favorite question is \"how long should we hold a stock for?\". \n",
    "every investor wants to know how not to act too fearful and too greedy. and not all of them have warren buffet to guide them at every step. i'd suggest that you stop looking for him. rather, build your stock market predictor with artificial intelligence tools like machine learning. and the approach to this is so simple that you can consider adding this to your data science projects list."
   ]
  },
  {
   "cell_type": "code",
   "execution_count": 1,
   "id": "d903c3a7",
   "metadata": {},
   "outputs": [],
   "source": [
    "# importing packages\n",
    "\n",
    "import pandas as pd\n",
    "import numpy as np \n",
    "import matplotlib.pyplot as plt\n",
    "from sklearn.preprocessing import MinMaxScaler"
   ]
  },
  {
   "cell_type": "code",
   "execution_count": 2,
   "id": "cf6cb6f1",
   "metadata": {},
   "outputs": [],
   "source": [
    "# Load Data\n",
    "\n",
    "df = pd.read_csv(\"stock_prices.csv\")"
   ]
  },
  {
   "cell_type": "code",
   "execution_count": 3,
   "id": "d2f00686",
   "metadata": {
    "scrolled": true
   },
   "outputs": [
    {
     "data": {
      "text/html": [
       "<div>\n",
       "<style scoped>\n",
       "    .dataframe tbody tr th:only-of-type {\n",
       "        vertical-align: middle;\n",
       "    }\n",
       "\n",
       "    .dataframe tbody tr th {\n",
       "        vertical-align: top;\n",
       "    }\n",
       "\n",
       "    .dataframe thead th {\n",
       "        text-align: right;\n",
       "    }\n",
       "</style>\n",
       "<table border=\"1\" class=\"dataframe\">\n",
       "  <thead>\n",
       "    <tr style=\"text-align: right;\">\n",
       "      <th></th>\n",
       "      <th>Date</th>\n",
       "      <th>Open</th>\n",
       "      <th>High</th>\n",
       "      <th>Low</th>\n",
       "      <th>Close</th>\n",
       "      <th>Volume</th>\n",
       "      <th>OpenInt</th>\n",
       "      <th>Stock</th>\n",
       "    </tr>\n",
       "  </thead>\n",
       "  <tbody>\n",
       "    <tr>\n",
       "      <th>0</th>\n",
       "      <td>1984-09-07</td>\n",
       "      <td>0.42388</td>\n",
       "      <td>0.42902</td>\n",
       "      <td>0.41874</td>\n",
       "      <td>0.42388</td>\n",
       "      <td>23220030</td>\n",
       "      <td>0</td>\n",
       "      <td>AAPL</td>\n",
       "    </tr>\n",
       "    <tr>\n",
       "      <th>1</th>\n",
       "      <td>1984-09-10</td>\n",
       "      <td>0.42388</td>\n",
       "      <td>0.42516</td>\n",
       "      <td>0.41366</td>\n",
       "      <td>0.42134</td>\n",
       "      <td>18022532</td>\n",
       "      <td>0</td>\n",
       "      <td>AAPL</td>\n",
       "    </tr>\n",
       "    <tr>\n",
       "      <th>2</th>\n",
       "      <td>1984-09-11</td>\n",
       "      <td>0.42516</td>\n",
       "      <td>0.43668</td>\n",
       "      <td>0.42516</td>\n",
       "      <td>0.42902</td>\n",
       "      <td>42498199</td>\n",
       "      <td>0</td>\n",
       "      <td>AAPL</td>\n",
       "    </tr>\n",
       "    <tr>\n",
       "      <th>3</th>\n",
       "      <td>1984-09-12</td>\n",
       "      <td>0.42902</td>\n",
       "      <td>0.43157</td>\n",
       "      <td>0.41618</td>\n",
       "      <td>0.41618</td>\n",
       "      <td>37125801</td>\n",
       "      <td>0</td>\n",
       "      <td>AAPL</td>\n",
       "    </tr>\n",
       "    <tr>\n",
       "      <th>4</th>\n",
       "      <td>1984-09-13</td>\n",
       "      <td>0.43927</td>\n",
       "      <td>0.44052</td>\n",
       "      <td>0.43927</td>\n",
       "      <td>0.43927</td>\n",
       "      <td>57822062</td>\n",
       "      <td>0</td>\n",
       "      <td>AAPL</td>\n",
       "    </tr>\n",
       "  </tbody>\n",
       "</table>\n",
       "</div>"
      ],
      "text/plain": [
       "         Date     Open     High      Low    Close    Volume  OpenInt Stock\n",
       "0  1984-09-07  0.42388  0.42902  0.41874  0.42388  23220030        0  AAPL\n",
       "1  1984-09-10  0.42388  0.42516  0.41366  0.42134  18022532        0  AAPL\n",
       "2  1984-09-11  0.42516  0.43668  0.42516  0.42902  42498199        0  AAPL\n",
       "3  1984-09-12  0.42902  0.43157  0.41618  0.41618  37125801        0  AAPL\n",
       "4  1984-09-13  0.43927  0.44052  0.43927  0.43927  57822062        0  AAPL"
      ]
     },
     "execution_count": 3,
     "metadata": {},
     "output_type": "execute_result"
    }
   ],
   "source": [
    "df.head()"
   ]
  },
  {
   "cell_type": "code",
   "execution_count": 4,
   "id": "755c83a5",
   "metadata": {},
   "outputs": [
    {
     "data": {
      "text/plain": [
       "Index(['Date', 'Open', 'High', 'Low', 'Close', 'Volume', 'OpenInt', 'Stock'], dtype='object')"
      ]
     },
     "execution_count": 4,
     "metadata": {},
     "output_type": "execute_result"
    }
   ],
   "source": [
    "df.columns"
   ]
  },
  {
   "cell_type": "code",
   "execution_count": 5,
   "id": "fed0b0a4",
   "metadata": {
    "scrolled": true
   },
   "outputs": [
    {
     "data": {
      "text/plain": [
       "Date       0\n",
       "Open       0\n",
       "High       0\n",
       "Low        0\n",
       "Close      0\n",
       "Volume     0\n",
       "OpenInt    0\n",
       "Stock      0\n",
       "dtype: int64"
      ]
     },
     "execution_count": 5,
     "metadata": {},
     "output_type": "execute_result"
    }
   ],
   "source": [
    "df.isnull().sum()"
   ]
  },
  {
   "cell_type": "markdown",
   "id": "7dcb5ae6",
   "metadata": {},
   "source": [
    "### Feature scaling \n",
    "\n",
    "Feature scaling is a technique used in data preprocessing that aims to standardize the range of values of the different features (or variables) in a dataset. The purpose of feature scaling is to bring all features onto the same scale so that they can be compared and analyzed more effectively.\n",
    "\n",
    "When features in a dataset have different ranges, some algorithms may give more weight to features with larger scales, which could lead to biased results. Feature scaling solves this issue by transforming the values of each feature into a common range, typically between 0 and 1 or -1 and 1, so that each feature contributes equally to the analysis.\n",
    "\n",
    "Commonly used scaling techniques include Min-Max scaling, Standardization (Z-score normalization), Log transformation, and others."
   ]
  },
  {
   "cell_type": "markdown",
   "id": "5272576f",
   "metadata": {},
   "source": [
    "#### Below code explanation\n",
    "\n",
    "This code is performing feature scaling on a dataset called df, specifically on the columns 'Open', 'High', 'Low', 'Close' and 'Volume'. Feature scaling is a common technique used to standardize the range of values of features in a dataset.\n",
    "\n",
    "The MinMaxScaler() function is used to scale the values of the 'Open', 'High', 'Low', and 'Close' columns to be within a certain range (usually between 0 and 1). This is done by subtracting the minimum value of the column from each value and then dividing by the range (max value minus min value).\n",
    "\n",
    "The same scaling technique is applied to the 'Volume' column, but with one difference. The .values.reshape(-1,1) method is used to reshape the column values into a 2D array with one column and as many rows as there are values. This is because the fit_transform() method requires a 2D array as input.\n",
    "\n",
    "After scaling, the scaled values are assigned back to the respective columns of df."
   ]
  },
  {
   "cell_type": "code",
   "execution_count": 6,
   "id": "8918c1db",
   "metadata": {},
   "outputs": [],
   "source": [
    "# Data Processing\n",
    "# Feature Scaling\n",
    "\n",
    "scalar = MinMaxScaler()\n",
    "df[['Open','High','Low','Close']] = scalar.fit_transform(df[['Open','High','Low','Close']])\n",
    "df['Volume'] = scalar.fit_transform(df['Volume'].values.reshape(-1,1))\n"
   ]
  },
  {
   "cell_type": "code",
   "execution_count": 7,
   "id": "11c38a70",
   "metadata": {},
   "outputs": [
    {
     "data": {
      "text/plain": [
       "0        0.011219\n",
       "1        0.008708\n",
       "2        0.020533\n",
       "3        0.017937\n",
       "4        0.027936\n",
       "           ...   \n",
       "19581    0.006414\n",
       "19582    0.006234\n",
       "19583    0.005057\n",
       "19584    0.006089\n",
       "19585    0.005344\n",
       "Name: Volume, Length: 19586, dtype: float64"
      ]
     },
     "execution_count": 7,
     "metadata": {},
     "output_type": "execute_result"
    }
   ],
   "source": [
    "df['Volume']"
   ]
  },
  {
   "cell_type": "code",
   "execution_count": 8,
   "id": "f6eb9a06",
   "metadata": {},
   "outputs": [
    {
     "data": {
      "text/plain": [
       "1.0"
      ]
     },
     "execution_count": 8,
     "metadata": {},
     "output_type": "execute_result"
    }
   ],
   "source": [
    "df['Volume'].max()"
   ]
  },
  {
   "cell_type": "code",
   "execution_count": 9,
   "id": "8fd23428",
   "metadata": {},
   "outputs": [
    {
     "data": {
      "text/plain": [
       "0        0.000923\n",
       "1        0.000923\n",
       "2        0.000926\n",
       "3        0.000936\n",
       "4        0.000962\n",
       "           ...   \n",
       "19581    0.461672\n",
       "19582    0.466689\n",
       "19583    0.464853\n",
       "19584    0.461025\n",
       "19585    0.461129\n",
       "Name: Open, Length: 19586, dtype: float64"
      ]
     },
     "execution_count": 9,
     "metadata": {},
     "output_type": "execute_result"
    }
   ],
   "source": [
    "df['Open']"
   ]
  },
  {
   "cell_type": "code",
   "execution_count": 10,
   "id": "3adb28a0",
   "metadata": {},
   "outputs": [
    {
     "data": {
      "text/plain": [
       "1.0"
      ]
     },
     "execution_count": 10,
     "metadata": {},
     "output_type": "execute_result"
    }
   ],
   "source": [
    "df['Open'].max()"
   ]
  },
  {
   "cell_type": "code",
   "execution_count": 11,
   "id": "0287376e",
   "metadata": {},
   "outputs": [
    {
     "data": {
      "text/plain": [
       "0.0"
      ]
     },
     "execution_count": 11,
     "metadata": {},
     "output_type": "execute_result"
    }
   ],
   "source": [
    "df['Open'].min()"
   ]
  },
  {
   "cell_type": "code",
   "execution_count": 12,
   "id": "d0415837",
   "metadata": {
    "scrolled": false
   },
   "outputs": [
    {
     "data": {
      "text/plain": [
       "0        0.000929\n",
       "1        0.000919\n",
       "2        0.000948\n",
       "3        0.000935\n",
       "4        0.000958\n",
       "           ...   \n",
       "19581    0.463063\n",
       "19582    0.463828\n",
       "19583    0.462806\n",
       "19584    0.460367\n",
       "19585    0.459597\n",
       "Name: High, Length: 19586, dtype: float64"
      ]
     },
     "execution_count": 12,
     "metadata": {},
     "output_type": "execute_result"
    }
   ],
   "source": [
    "df['High']"
   ]
  },
  {
   "cell_type": "code",
   "execution_count": 13,
   "id": "ce98f21e",
   "metadata": {},
   "outputs": [],
   "source": [
    "# Feature Selection\n",
    "\n",
    "X = df[['Open','High','Low','Close']]\n",
    "y = df['Volume']\n"
   ]
  },
  {
   "cell_type": "code",
   "execution_count": 14,
   "id": "93935a72",
   "metadata": {},
   "outputs": [
    {
     "data": {
      "text/html": [
       "<div>\n",
       "<style scoped>\n",
       "    .dataframe tbody tr th:only-of-type {\n",
       "        vertical-align: middle;\n",
       "    }\n",
       "\n",
       "    .dataframe tbody tr th {\n",
       "        vertical-align: top;\n",
       "    }\n",
       "\n",
       "    .dataframe thead th {\n",
       "        text-align: right;\n",
       "    }\n",
       "</style>\n",
       "<table border=\"1\" class=\"dataframe\">\n",
       "  <thead>\n",
       "    <tr style=\"text-align: right;\">\n",
       "      <th></th>\n",
       "      <th>Open</th>\n",
       "      <th>High</th>\n",
       "      <th>Low</th>\n",
       "      <th>Close</th>\n",
       "    </tr>\n",
       "  </thead>\n",
       "  <tbody>\n",
       "    <tr>\n",
       "      <th>0</th>\n",
       "      <td>0.000923</td>\n",
       "      <td>0.000929</td>\n",
       "      <td>0.000927</td>\n",
       "      <td>0.000927</td>\n",
       "    </tr>\n",
       "    <tr>\n",
       "      <th>1</th>\n",
       "      <td>0.000923</td>\n",
       "      <td>0.000919</td>\n",
       "      <td>0.000913</td>\n",
       "      <td>0.000920</td>\n",
       "    </tr>\n",
       "    <tr>\n",
       "      <th>2</th>\n",
       "      <td>0.000926</td>\n",
       "      <td>0.000948</td>\n",
       "      <td>0.000944</td>\n",
       "      <td>0.000940</td>\n",
       "    </tr>\n",
       "    <tr>\n",
       "      <th>3</th>\n",
       "      <td>0.000936</td>\n",
       "      <td>0.000935</td>\n",
       "      <td>0.000920</td>\n",
       "      <td>0.000907</td>\n",
       "    </tr>\n",
       "    <tr>\n",
       "      <th>4</th>\n",
       "      <td>0.000962</td>\n",
       "      <td>0.000958</td>\n",
       "      <td>0.000981</td>\n",
       "      <td>0.000967</td>\n",
       "    </tr>\n",
       "    <tr>\n",
       "      <th>...</th>\n",
       "      <td>...</td>\n",
       "      <td>...</td>\n",
       "      <td>...</td>\n",
       "      <td>...</td>\n",
       "    </tr>\n",
       "    <tr>\n",
       "      <th>19581</th>\n",
       "      <td>0.461672</td>\n",
       "      <td>0.463063</td>\n",
       "      <td>0.469953</td>\n",
       "      <td>0.467881</td>\n",
       "    </tr>\n",
       "    <tr>\n",
       "      <th>19582</th>\n",
       "      <td>0.466689</td>\n",
       "      <td>0.463828</td>\n",
       "      <td>0.472835</td>\n",
       "      <td>0.468089</td>\n",
       "    </tr>\n",
       "    <tr>\n",
       "      <th>19583</th>\n",
       "      <td>0.464853</td>\n",
       "      <td>0.462806</td>\n",
       "      <td>0.472062</td>\n",
       "      <td>0.466296</td>\n",
       "    </tr>\n",
       "    <tr>\n",
       "      <th>19584</th>\n",
       "      <td>0.461025</td>\n",
       "      <td>0.460367</td>\n",
       "      <td>0.466737</td>\n",
       "      <td>0.465621</td>\n",
       "    </tr>\n",
       "    <tr>\n",
       "      <th>19585</th>\n",
       "      <td>0.461129</td>\n",
       "      <td>0.459597</td>\n",
       "      <td>0.469030</td>\n",
       "      <td>0.463439</td>\n",
       "    </tr>\n",
       "  </tbody>\n",
       "</table>\n",
       "<p>19586 rows × 4 columns</p>\n",
       "</div>"
      ],
      "text/plain": [
       "           Open      High       Low     Close\n",
       "0      0.000923  0.000929  0.000927  0.000927\n",
       "1      0.000923  0.000919  0.000913  0.000920\n",
       "2      0.000926  0.000948  0.000944  0.000940\n",
       "3      0.000936  0.000935  0.000920  0.000907\n",
       "4      0.000962  0.000958  0.000981  0.000967\n",
       "...         ...       ...       ...       ...\n",
       "19581  0.461672  0.463063  0.469953  0.467881\n",
       "19582  0.466689  0.463828  0.472835  0.468089\n",
       "19583  0.464853  0.462806  0.472062  0.466296\n",
       "19584  0.461025  0.460367  0.466737  0.465621\n",
       "19585  0.461129  0.459597  0.469030  0.463439\n",
       "\n",
       "[19586 rows x 4 columns]"
      ]
     },
     "execution_count": 14,
     "metadata": {},
     "output_type": "execute_result"
    }
   ],
   "source": [
    "X"
   ]
  },
  {
   "cell_type": "code",
   "execution_count": 15,
   "id": "d1d6e21a",
   "metadata": {},
   "outputs": [
    {
     "data": {
      "text/plain": [
       "0        0.011219\n",
       "1        0.008708\n",
       "2        0.020533\n",
       "3        0.017937\n",
       "4        0.027936\n",
       "           ...   \n",
       "19581    0.006414\n",
       "19582    0.006234\n",
       "19583    0.005057\n",
       "19584    0.006089\n",
       "19585    0.005344\n",
       "Name: Volume, Length: 19586, dtype: float64"
      ]
     },
     "execution_count": 15,
     "metadata": {},
     "output_type": "execute_result"
    }
   ],
   "source": [
    "y"
   ]
  },
  {
   "cell_type": "code",
   "execution_count": 16,
   "id": "129523e7",
   "metadata": {},
   "outputs": [],
   "source": [
    "# Splitting the data into training and Testing \n",
    "\n",
    "from sklearn.model_selection import train_test_split\n",
    "\n",
    "X_train, X_test, y_train, y_test = train_test_split(X, y, test_size=0.2, random_state=42)\n"
   ]
  },
  {
   "cell_type": "code",
   "execution_count": 17,
   "id": "7d745a88",
   "metadata": {},
   "outputs": [
    {
     "data": {
      "text/plain": [
       "Open     15668\n",
       "High     15668\n",
       "Low      15668\n",
       "Close    15668\n",
       "dtype: int64"
      ]
     },
     "execution_count": 17,
     "metadata": {},
     "output_type": "execute_result"
    }
   ],
   "source": [
    "X_train.count()"
   ]
  },
  {
   "cell_type": "code",
   "execution_count": 18,
   "id": "ed30e684",
   "metadata": {},
   "outputs": [
    {
     "data": {
      "text/plain": [
       "Open     3918\n",
       "High     3918\n",
       "Low      3918\n",
       "Close    3918\n",
       "dtype: int64"
      ]
     },
     "execution_count": 18,
     "metadata": {},
     "output_type": "execute_result"
    }
   ],
   "source": [
    "X_test.count()"
   ]
  },
  {
   "cell_type": "code",
   "execution_count": 19,
   "id": "a3aef5b1",
   "metadata": {},
   "outputs": [
    {
     "data": {
      "text/plain": [
       "15668"
      ]
     },
     "execution_count": 19,
     "metadata": {},
     "output_type": "execute_result"
    }
   ],
   "source": [
    "y_train.count()"
   ]
  },
  {
   "cell_type": "code",
   "execution_count": 20,
   "id": "514ac42c",
   "metadata": {},
   "outputs": [
    {
     "data": {
      "text/plain": [
       "3918"
      ]
     },
     "execution_count": 20,
     "metadata": {},
     "output_type": "execute_result"
    }
   ],
   "source": [
    "y_test.count()"
   ]
  },
  {
   "cell_type": "markdown",
   "id": "c22ddbc9",
   "metadata": {},
   "source": [
    "## LSTM\n",
    "\n",
    "An LSTM (Long Short-Term Memory) model is a type of recurrent neural network (RNN) that is designed to handle sequential data, such as time-series or text data.\n",
    "\n",
    "At its core, an LSTM model consists of a series of memory cells that can store information for an extended period of time. These memory cells are connected by a network of gates that regulate the flow of information into and out of the cells.\n",
    "\n",
    "Each gate is composed of a sigmoid activation function and a point-wise multiplication operation. The sigmoid function acts as a switch that controls the flow of information, while the multiplication operation scales the input data.\n",
    "\n",
    "There are three main types of gates in an LSTM model:\n",
    "\n",
    "- The forget gate, which determines what information to discard from the cell.\n",
    "- The input gate, which decides what new information to store in the cell.\n",
    "- The output gate, which determines what information to output from the cell.\n",
    "\n",
    "\n",
    "The LSTM model is trained using a process called backpropagation through time (BPTT), which adjusts the weights of the gates based on the error between the predicted output and the actual output.\n",
    "\n",
    "Overall, the LSTM model is a powerful tool for handling sequential data due to its ability to selectively store and retrieve information over long periods of time. It has been successfully applied to a wide range of tasks, including speech recognition, language translation, and time-series forecasting."
   ]
  },
  {
   "cell_type": "markdown",
   "id": "6983a451",
   "metadata": {},
   "source": [
    "#### Is it mandatory to convert our data into 3D\n",
    "\n",
    "Yes, it is mandatory to format the data as a 3D tensor for input to an LSTM model.\n",
    "\n",
    "The reason for this is that an LSTM model is designed to handle sequential data, which is inherently three-dimensional. In other words, the input to an LSTM model should be a three-dimensional tensor with shape (batch_size, time_steps, num_features).\n",
    "\n",
    "- batch_size: This is the number of samples in each batch of data.\n",
    "- time_steps: This is the number of time steps in each sample, representing the sequence length.\n",
    "- num_features: This is the number of features (or variables) in each time step.\n",
    "For example, if you are using an LSTM model to forecast stock prices, batch_size would be the number of companies you are forecasting for, time_steps would be the number of days in the forecast horizon, and num_features would be the number of input variables (such as opening price, closing price, volume, etc.) for each day.\n",
    "\n",
    "The data needs to be reshaped into this format before being fed into the LSTM model, typically using the reshape() function in NumPy or the reshape() method in TensorFlow or Keras."
   ]
  },
  {
   "cell_type": "code",
   "execution_count": 21,
   "id": "e78e1edb",
   "metadata": {},
   "outputs": [],
   "source": [
    "# Reshape data to be 3D for LSTM model\n",
    "\n",
    "from keras.layers import  LSTM\n",
    "\n",
    "X_train = np.reshape(X_train.values,(X_train.shape[0],X_train.shape[1],1))\n",
    "\n",
    "X_test = np.reshape(X_test.values,(X_test.shape[0],X_test.shape[1],1))"
   ]
  },
  {
   "cell_type": "code",
   "execution_count": 22,
   "id": "3df28472",
   "metadata": {},
   "outputs": [
    {
     "data": {
      "text/plain": [
       "array([[[0.00334357],\n",
       "        [0.00334161],\n",
       "        [0.00334689],\n",
       "        [0.00335825]],\n",
       "\n",
       "       [[0.00071056],\n",
       "        [0.00070524],\n",
       "        [0.00069398],\n",
       "        [0.00069043]],\n",
       "\n",
       "       [[0.01420661],\n",
       "        [0.01412168],\n",
       "        [0.01392884],\n",
       "        [0.01381124]],\n",
       "\n",
       "       ...,\n",
       "\n",
       "       [[0.02504974],\n",
       "        [0.02598379],\n",
       "        [0.02547948],\n",
       "        [0.0256637 ]],\n",
       "\n",
       "       [[0.00326468],\n",
       "        [0.00326922],\n",
       "        [0.00323958],\n",
       "        [0.00325511]],\n",
       "\n",
       "       [[0.06532931],\n",
       "        [0.06569702],\n",
       "        [0.06641517],\n",
       "        [0.06609154]]])"
      ]
     },
     "execution_count": 22,
     "metadata": {},
     "output_type": "execute_result"
    }
   ],
   "source": [
    "X_train"
   ]
  },
  {
   "cell_type": "markdown",
   "id": "6bab03cf",
   "metadata": {},
   "source": [
    "### Define LSTM model architecture\n",
    "\n",
    "\n",
    "LSTM model architecture refers to the structure and design of a Long Short-Term Memory (LSTM) neural network that is used to analyze sequential data, such as time-series or text data.\n",
    "\n",
    "\n",
    "The LSTM model consists of a series of memory cells that can store information for an extended period of time. These memory cells are connected by a network of gates that regulate the flow of information into and out of the cells.\n",
    "\n",
    "\n",
    "The LSTM model architecture typically includes the following components:\n",
    "\n",
    "    \n",
    "- Input layer: This layer receives the input data and passes it on to the next layer.\n",
    "\n",
    "- LSTM layer: This layer consists of a series of memory cells connected by gates. The LSTM layer processes the input data sequentially, storing and retrieving information as needed.\n",
    "\n",
    "- Output layer: This layer produces the output of the model, which can be a single value (for regression tasks) or a set of probabilities (for classification tasks).\n",
    "\n",
    "- Activation functions: The LSTM model typically includes activation functions, such as sigmoid and tanh, that are used to regulate the flow of information through the gates and memory cells.\n",
    "\n",
    "- Loss function: This function measures the error between the predicted output and the actual output, and is used to guide the training of the model.\n",
    "\n",
    "- Optimization algorithm: This algorithm is used to minimize the loss function and adjust the weights of the model during training.\n",
    "\n",
    "    \n",
    "    \n",
    "The specific architecture of an LSTM model can vary depending on the task and the data being analyzed. However, the core components described above are common to most LSTM models"
   ]
  },
  {
   "cell_type": "code",
   "execution_count": 23,
   "id": "69e550b2",
   "metadata": {},
   "outputs": [],
   "source": [
    "# Define LSTM model architecture\n",
    "\n",
    "from keras.models import Sequential\n",
    "from keras.layers import Dense\n",
    "\n",
    "model = Sequential()\n",
    "model.add(LSTM(units=50, return_sequences=True, input_shape=(X_train.shape[1], 1)))\n",
    "model.add(LSTM(units=50))\n",
    "model.add(Dense(1))"
   ]
  },
  {
   "cell_type": "code",
   "execution_count": 24,
   "id": "eeecbded",
   "metadata": {},
   "outputs": [],
   "source": [
    "# Compile the model \n",
    "\n",
    "from sklearn.metrics import mean_squared_error\n",
    "\n",
    "model.compile(loss='mean_squared_error',optimizer = 'adam')"
   ]
  },
  {
   "cell_type": "code",
   "execution_count": 33,
   "id": "9b140fbd",
   "metadata": {
    "scrolled": false
   },
   "outputs": [
    {
     "name": "stdout",
     "output_type": "stream",
     "text": [
      "Epoch 1/60\n",
      "490/490 [==============================] - 4s 8ms/step - loss: 0.0012 - val_loss: 0.0012\n",
      "Epoch 2/60\n",
      "490/490 [==============================] - 5s 11ms/step - loss: 0.0012 - val_loss: 0.0012\n",
      "Epoch 3/60\n",
      "490/490 [==============================] - 5s 11ms/step - loss: 0.0012 - val_loss: 0.0012\n",
      "Epoch 4/60\n",
      "490/490 [==============================] - 6s 11ms/step - loss: 0.0012 - val_loss: 0.0012\n",
      "Epoch 5/60\n",
      "490/490 [==============================] - 5s 10ms/step - loss: 0.0012 - val_loss: 0.0012\n",
      "Epoch 6/60\n",
      "490/490 [==============================] - 5s 11ms/step - loss: 0.0012 - val_loss: 0.0012\n",
      "Epoch 7/60\n",
      "490/490 [==============================] - 5s 10ms/step - loss: 0.0012 - val_loss: 0.0012\n",
      "Epoch 8/60\n",
      "490/490 [==============================] - 6s 11ms/step - loss: 0.0012 - val_loss: 0.0012\n",
      "Epoch 9/60\n",
      "490/490 [==============================] - 6s 12ms/step - loss: 0.0012 - val_loss: 0.0012\n",
      "Epoch 10/60\n",
      "490/490 [==============================] - 6s 11ms/step - loss: 0.0012 - val_loss: 0.0012\n",
      "Epoch 11/60\n",
      "490/490 [==============================] - 5s 9ms/step - loss: 0.0012 - val_loss: 0.0012\n",
      "Epoch 12/60\n",
      "490/490 [==============================] - 5s 10ms/step - loss: 0.0012 - val_loss: 0.0012\n",
      "Epoch 13/60\n",
      "490/490 [==============================] - 5s 9ms/step - loss: 0.0012 - val_loss: 0.0012\n",
      "Epoch 14/60\n",
      "490/490 [==============================] - 5s 9ms/step - loss: 0.0012 - val_loss: 0.0012\n",
      "Epoch 15/60\n",
      "490/490 [==============================] - 5s 10ms/step - loss: 0.0012 - val_loss: 0.0012\n",
      "Epoch 16/60\n",
      "490/490 [==============================] - 5s 11ms/step - loss: 0.0012 - val_loss: 0.0012\n",
      "Epoch 17/60\n",
      "490/490 [==============================] - 5s 10ms/step - loss: 0.0012 - val_loss: 0.0012\n",
      "Epoch 18/60\n",
      "490/490 [==============================] - 4s 8ms/step - loss: 0.0012 - val_loss: 0.0012\n",
      "Epoch 19/60\n",
      "490/490 [==============================] - 4s 8ms/step - loss: 0.0012 - val_loss: 0.0012\n",
      "Epoch 20/60\n",
      "490/490 [==============================] - 4s 8ms/step - loss: 0.0012 - val_loss: 0.0012\n",
      "Epoch 21/60\n",
      "490/490 [==============================] - 4s 8ms/step - loss: 0.0012 - val_loss: 0.0012\n",
      "Epoch 22/60\n",
      "490/490 [==============================] - 4s 9ms/step - loss: 0.0012 - val_loss: 0.0012\n",
      "Epoch 23/60\n",
      "490/490 [==============================] - 4s 9ms/step - loss: 0.0012 - val_loss: 0.0012\n",
      "Epoch 24/60\n",
      "490/490 [==============================] - 4s 9ms/step - loss: 0.0012 - val_loss: 0.0012\n",
      "Epoch 25/60\n",
      "490/490 [==============================] - 4s 9ms/step - loss: 0.0012 - val_loss: 0.0012\n",
      "Epoch 26/60\n",
      "490/490 [==============================] - 4s 9ms/step - loss: 0.0012 - val_loss: 0.0012\n",
      "Epoch 27/60\n",
      "490/490 [==============================] - 4s 8ms/step - loss: 0.0012 - val_loss: 0.0012\n",
      "Epoch 28/60\n",
      "490/490 [==============================] - 4s 9ms/step - loss: 0.0012 - val_loss: 0.0012\n",
      "Epoch 29/60\n",
      "490/490 [==============================] - 4s 8ms/step - loss: 0.0012 - val_loss: 0.0012\n",
      "Epoch 30/60\n",
      "490/490 [==============================] - 4s 8ms/step - loss: 0.0012 - val_loss: 0.0012\n",
      "Epoch 31/60\n",
      "490/490 [==============================] - 4s 8ms/step - loss: 0.0011 - val_loss: 0.0012\n",
      "Epoch 32/60\n",
      "490/490 [==============================] - 4s 8ms/step - loss: 0.0011 - val_loss: 0.0012\n",
      "Epoch 33/60\n",
      "490/490 [==============================] - 4s 8ms/step - loss: 0.0011 - val_loss: 0.0012\n",
      "Epoch 34/60\n",
      "490/490 [==============================] - 4s 8ms/step - loss: 0.0011 - val_loss: 0.0011\n",
      "Epoch 35/60\n",
      "490/490 [==============================] - 4s 8ms/step - loss: 0.0011 - val_loss: 0.0011\n",
      "Epoch 36/60\n",
      "490/490 [==============================] - 4s 8ms/step - loss: 0.0011 - val_loss: 0.0011\n",
      "Epoch 37/60\n",
      "490/490 [==============================] - 4s 8ms/step - loss: 0.0011 - val_loss: 0.0011\n",
      "Epoch 38/60\n",
      "490/490 [==============================] - 4s 8ms/step - loss: 0.0011 - val_loss: 0.0012\n",
      "Epoch 39/60\n",
      "490/490 [==============================] - 4s 8ms/step - loss: 0.0011 - val_loss: 0.0012\n",
      "Epoch 40/60\n",
      "490/490 [==============================] - 4s 9ms/step - loss: 0.0011 - val_loss: 0.0011\n",
      "Epoch 41/60\n",
      "490/490 [==============================] - 4s 8ms/step - loss: 0.0011 - val_loss: 0.0011\n",
      "Epoch 42/60\n",
      "490/490 [==============================] - 4s 9ms/step - loss: 0.0011 - val_loss: 0.0011\n",
      "Epoch 43/60\n",
      "490/490 [==============================] - 5s 9ms/step - loss: 0.0011 - val_loss: 0.0011\n",
      "Epoch 44/60\n",
      "490/490 [==============================] - 5s 10ms/step - loss: 0.0011 - val_loss: 0.0011\n",
      "Epoch 45/60\n",
      "490/490 [==============================] - 5s 10ms/step - loss: 0.0011 - val_loss: 0.0011\n",
      "Epoch 46/60\n",
      "490/490 [==============================] - 5s 11ms/step - loss: 0.0011 - val_loss: 0.0011\n",
      "Epoch 47/60\n",
      "490/490 [==============================] - 5s 11ms/step - loss: 0.0011 - val_loss: 0.0011\n",
      "Epoch 48/60\n",
      "490/490 [==============================] - 5s 10ms/step - loss: 0.0011 - val_loss: 0.0011\n",
      "Epoch 49/60\n",
      "490/490 [==============================] - 5s 9ms/step - loss: 0.0011 - val_loss: 0.0011\n",
      "Epoch 50/60\n",
      "490/490 [==============================] - 5s 10ms/step - loss: 0.0011 - val_loss: 0.0011\n",
      "Epoch 51/60\n",
      "490/490 [==============================] - 5s 10ms/step - loss: 0.0011 - val_loss: 0.0011\n",
      "Epoch 52/60\n",
      "490/490 [==============================] - 5s 10ms/step - loss: 0.0011 - val_loss: 0.0011\n",
      "Epoch 53/60\n",
      "490/490 [==============================] - 4s 9ms/step - loss: 0.0011 - val_loss: 0.0011\n",
      "Epoch 54/60\n",
      "490/490 [==============================] - 5s 10ms/step - loss: 0.0011 - val_loss: 0.0011\n",
      "Epoch 55/60\n",
      "490/490 [==============================] - 4s 8ms/step - loss: 0.0011 - val_loss: 0.0011\n",
      "Epoch 56/60\n",
      "490/490 [==============================] - 4s 8ms/step - loss: 0.0011 - val_loss: 0.0011\n",
      "Epoch 57/60\n",
      "490/490 [==============================] - 4s 8ms/step - loss: 0.0011 - val_loss: 0.0010\n",
      "Epoch 58/60\n",
      "490/490 [==============================] - 4s 8ms/step - loss: 0.0011 - val_loss: 0.0011\n",
      "Epoch 59/60\n",
      "490/490 [==============================] - 4s 8ms/step - loss: 0.0011 - val_loss: 0.0011\n",
      "Epoch 60/60\n",
      "490/490 [==============================] - 4s 8ms/step - loss: 0.0011 - val_loss: 0.0010\n"
     ]
    }
   ],
   "source": [
    "# Train the model\n",
    "\n",
    "Train_Model = model.fit(X_train,y_train,epochs=60,batch_size=32,validation_data=(X_test,y_test))"
   ]
  },
  {
   "cell_type": "code",
   "execution_count": 30,
   "id": "7de2338a",
   "metadata": {},
   "outputs": [
    {
     "name": "stdout",
     "output_type": "stream",
     "text": [
      "123/123 [==============================] - 0s 3ms/step\n",
      "Root_Mean_Squared_Error is : 0.03481243850220002\n"
     ]
    }
   ],
   "source": [
    "# Evaluation of the model\n",
    "\n",
    "y_pred = model.predict(X_test)\n",
    "\n",
    "rmse = np.sqrt(mean_squared_error(y_test,y_pred))\n",
    "print(\"Root_Mean_Squared_Error is :\",rmse)"
   ]
  },
  {
   "cell_type": "code",
   "execution_count": 31,
   "id": "99402ad1",
   "metadata": {},
   "outputs": [
    {
     "data": {
      "image/png": "[encoded data removed]",
      "text/plain": [
       "<Figure size 640x480 with 1 Axes>"
      ]
     },
     "metadata": {},
     "output_type": "display_data"
    }
   ],
   "source": [
    "# Visualize training and validation loss\n",
    "\n",
    "\n",
    "plt.plot(Train_Model.history['loss'],label='Training LOSS' )\n",
    "plt.plot(Train_Model.history['val_loss'],label='Validation LOSS' )\n",
    "plt.legend()\n",
    "plt.show()"
   ]
  },
  {
   "cell_type": "code",
   "execution_count": 32,
   "id": "638ec5a8",
   "metadata": {},
   "outputs": [
    {
     "data": {
      "image/png": "[encoded data removed]",
      "text/plain": [
       "<Figure size 640x480 with 1 Axes>"
      ]
     },
     "metadata": {},
     "output_type": "display_data"
    }
   ],
   "source": [
    "# Visualize actual vs predicted stock prices\n",
    "\n",
    "plt.plot(y_test.values, color='red', label='Actual Stock Price')\n",
    "plt.plot(y_pred, color='blue', label='Predicted Stock Price')\n",
    "plt.legend()\n",
    "plt.show()\n",
    "     "
   ]
  },
  {
   "cell_type": "code",
   "execution_count": null,
   "id": "afe61a32",
   "metadata": {},
   "outputs": [],
   "source": []
  },
  {
   "cell_type": "code",
   "execution_count": null,
   "id": "c9d3237a",
   "metadata": {},
   "outputs": [],
   "source": []
  },
  {
   "cell_type": "code",
   "execution_count": null,
   "id": "72fccd08",
   "metadata": {},
   "outputs": [],
   "source": []
  }
 ],
 "metadata": {
  "kernelspec": {
   "display_name": "Python 3 (ipykernel)",
   "language": "python",
   "name": "python3"
  },
  "language_info": {
   "codemirror_mode": {
    "name": "ipython",
    "version": 3
   },
   "file_extension": ".py",
   "mimetype": "text/x-python",
   "name": "python",
   "nbconvert_exporter": "python",
   "pygments_lexer": "ipython3",
   "version": "3.9.13"
  }
 },
 "nbformat": 4,
 "nbformat_minor": 5
}
